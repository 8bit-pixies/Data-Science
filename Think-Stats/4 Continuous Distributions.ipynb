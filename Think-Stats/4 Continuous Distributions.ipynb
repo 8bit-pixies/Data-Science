{
 "metadata": {
  "name": ""
 },
 "nbformat": 3,
 "nbformat_minor": 0,
 "worksheets": [
  {
   "cells": [
    {
     "cell_type": "markdown",
     "metadata": {},
     "source": [
      "This HTML version of is provided for convenience, but it is not the best\n",
      "format for the book. In particular, some of the symbols are not rendered\n",
      "correctly.\n",
      "\n",
      "You might prefer to read the [PDF\n",
      "version](http://thinkstats.com/thinkstats.pdf), or you can buy a hardcopy\n",
      "[here](http://www.lulu.com/product/paperback/think-stats/12443331).\n",
      "\n",
      "# Chapter\u00a04\u00a0\u00a0Continuous distributions\n",
      "\n",
      "The distributions we have used so far are called **empirical distributions**\n",
      "because they are based on empirical observations, which are necessarily finite\n",
      "samples.\n",
      "\n",
      "The alternative is a **continuous distribution**, which is characterized by a\n",
      "CDF that is a continuous function (as opposed to a step function). Many real\n",
      "world phenomena can be approximated by continuous distributions.\n",
      "\n",
      "## 4.1\u00a0\u00a0The exponential distribution\n",
      "\n",
      "I\u2019ll start with the exponential distribution because it is easy to work with.\n",
      "In the real world, exponential distributions come up when we look at a series\n",
      "of events and measure the times between events, which are called\n",
      "**interarrival times**. If the events are equally likely to occur at any time,\n",
      "the distribution of interarrival times tends to look like an exponential\n",
      "distribution.\n",
      "\n",
      "The CDF of the exponential distribution is:\n",
      "\n",
      "$$ CDF(x)\u00a0=\u00a01\u00a0\u2212\u00a0e^{\u2212\\lambda x} $$\n",
      "\n",
      "The parameter, \\\\(\\lambda\\\\), determines the shape of the distribution. Figure\u00a04.1 shows\n",
      "what this CDF looks like with \\\\(\\lambda\u00a0=\u00a02\\\\).\n"
     ]
    },
    {
     "cell_type": "code",
     "collapsed": false,
     "input": [
      "%matplotlib inline\n",
      "import pandas as pd\n",
      "import numpy as np\n",
      "import matplotlib.pyplot as plt\n",
      "\n",
      "# plot the exponential distribution\n",
      "def exp_cdf(x,l):\n",
      "    return 1-np.exp(-l*x)\n",
      "\n",
      "X = np.linspace(0,2.5,100)\n",
      "pd.DataFrame(exp_cdf(X,2), X).plot()"
     ],
     "language": "python",
     "metadata": {},
     "outputs": [
      {
       "metadata": {},
       "output_type": "pyout",
       "prompt_number": 1,
       "text": [
        "<matplotlib.axes.AxesSubplot at 0x8cb1650>"
       ]
      },
      {
       "metadata": {},
       "output_type": "display_data",
       "png": "[encoded data removed]",
       "text": [
        "<matplotlib.figure.Figure at 0x8cb1470>"
       ]
      }
     ],
     "prompt_number": 1
    },
    {
     "cell_type": "markdown",
     "metadata": {},
     "source": [
      "\n",
      "In general, the mean of an exponential distribution is \\\\(\\frac{1}{\\lambda}\\\\), so the mean of\n",
      "this distribution is 0.5. The median is \\\\(\\frac{log(2)}{\\lambda}\\\\), which is roughly 0.35.\n",
      "\n",
      "To see an example of a distribution that is approximately exponential, we will\n",
      "look at the interarrival time of babies. On December 18, 1997, 44 babies were\n",
      "born in a hospital in Brisbane, Australia(This example is based on information and data from Dunn, \u201cA Simple Dataset for Demonstrating Common Distributions,\u201d Journal of Statistics Education v.7, n.3 (1999)). The times of birth for all 44\n",
      "babies were reported in the local paper; you can download the data from\n",
      "`http://thinkstats.com/babyboom.dat`.\n",
      "\n",
      "Figure\u00a04.2 shows the CDF of the interarrival times in minutes. It seems to\n",
      "have the general shape of an exponential distribution, but how can we tell?\n",
      "\n",
      "One way is to plot the complementary CDF, 1\u00a0\u2212\u00a0CDF(\\\\(x\\\\)), on a log-\\\\(y\\\\)\u00a0scale.\n",
      "For data from an exponential distribution, the result is a straight line.\n",
      "Let's see why that works.\n",
      "\n",
      "If you plot the complementary CDF (CCDF) of a dataset that you think is\n",
      "exponential, you expect to see a function like:\n",
      "\n",
      "$$ y \\approx e^{-\\lambda x} $$\n",
      "\n",
      "Taking the log of both sides yields:\n",
      "\n",
      "$$ log(y) \\approx -\\lambda x$$\n",
      "\n",
      "So on a log-_y_\u00a0scale the CCDF is a straight line with slope \\\\(-\\lambda\\\\).\n",
      "\n"
     ]
    },
    {
     "cell_type": "code",
     "collapsed": false,
     "input": [
      "raw_data = open(\"data/babyboom.txt\", 'r').read()\n",
      "\n",
      "# cleaning and creating a dataframe off this data"
     ],
     "language": "python",
     "metadata": {},
     "outputs": [],
     "prompt_number": 2
    },
    {
     "cell_type": "code",
     "collapsed": false,
     "input": [
      "babyboom = pd.DataFrame([[int(y) for y in x.strip().split()] for x in raw_data.split('\\n')],\n",
      "                        columns = ['Time in 24hr', 'Sex', 'Weight (grams)', 'Mins after Midnight'])\n",
      "# sex: 1 for girl, 2 for boy"
     ],
     "language": "python",
     "metadata": {},
     "outputs": [],
     "prompt_number": 3
    },
    {
     "cell_type": "code",
     "collapsed": false,
     "input": [
      "# plot of time between births\n",
      "X = sorted(babyboom['Mins after Midnight']-babyboom['Mins after Midnight'].shift(1))[1:]\n",
      "plt.step(X, np.linspace(0,1, len(X)), label='post')\n",
      "plt.show()"
     ],
     "language": "python",
     "metadata": {},
     "outputs": [
      {
       "metadata": {},
       "output_type": "display_data",
       "png": "[encoded data removed]",
       "text": [
        "<matplotlib.figure.Figure at 0x8cd2370>"
       ]
      }
     ],
     "prompt_number": 4
    },
    {
     "cell_type": "code",
     "collapsed": false,
     "input": [
      "plt.step(X[::-1], np.linspace(0,1, len(X)), label='post')\n",
      "plt.xscale('log')\n",
      "plt.show()"
     ],
     "language": "python",
     "metadata": {},
     "outputs": [
      {
       "metadata": {},
       "output_type": "display_data",
       "png": "[encoded data removed]",
       "text": [
        "<matplotlib.figure.Figure at 0x8ed7ff0>"
       ]
      }
     ],
     "prompt_number": 5
    },
    {
     "cell_type": "markdown",
     "metadata": {},
     "source": [
      "\n",
      "Figure\u00a04.3 shows the CCDF of the interarrivals on a log-_y_\u00a0scale. It is not\n",
      "exactly straight, which suggests that the exponential distribution is only an\n",
      "approximation. Most likely the underlying assumption\u2014that a birth is equally\n",
      "likely at any time of day\u2014is not exactly true.\n",
      "\n",
      "**Exercise\u00a01**\u00a0\u00a0For small values of \\\\(n\\\\), we don\u2019t expect an empirical distribution to fit a continuous distribution exactly. One way to evaluate the quality of fit is to generate a sample from a continuous distribution and see how well it matches the data. \n",
      "\n",
      "The function `expovariate` in the `random` module generates random values\n",
      "from an exponential distribution with a given value of \u03bb. Use it to generate\n",
      "44 values from an exponential distribution with mean 32.6. Plot the CCDF on a\n",
      "log-\\\\(y\\\\)\u00a0scale and compare it to Figure\u00a04.3. \n",
      "\n",
      "Hint: You can use the function `pyplot.yscale` to plot the \\\\(y\\\\)\u00a0axis on a log\n",
      "scale.\n",
      "\n",
      "Or, if you use `myplot`, the `Cdf` function takes a boolean option,\n",
      "`complement`, that determines whether to plot the CDF or CCDF, and string\n",
      "options, `xscale` and `yscale`, that transform the axes; to plot a CCDF on a\n",
      "log-\\\\(y\\\\)\u00a0scale: \n",
      "    \n",
      "\n",
      "     myplot.Cdf(cdf, complement=True, xscale='linear', yscale='log')  \n",
      "\n"
     ]
    },
    {
     "cell_type": "code",
     "collapsed": false,
     "input": [
      "# Exercise 1 Solution\n",
      "\n",
      "from random import expovariate\n",
      "\n",
      "X = [expovariate(32.6) for _ in xrange(44)]\n",
      "X = sorted(X)\n",
      "plt.step(X[::-1], np.linspace(0,1, len(X)), label='post')"
     ],
     "language": "python",
     "metadata": {},
     "outputs": [
      {
       "metadata": {},
       "output_type": "pyout",
       "prompt_number": 6,
       "text": [
        "[<matplotlib.lines.Line2D at 0x8f603d0>]"
       ]
      },
      {
       "metadata": {},
       "output_type": "display_data",
       "png": "[encoded data removed]",
       "text": [
        "<matplotlib.figure.Figure at 0x8cfbcd0>"
       ]
      }
     ],
     "prompt_number": 6
    },
    {
     "cell_type": "markdown",
     "metadata": {},
     "source": [
      "\n",
      "**Exercise\u00a02**\u00a0\u00a0Collect the birthdays of the students in your class, sort them, and compute the interarrival times in days. Plot the CDF of the interarrival times and the CCDF on a log-\\\\(y\\\\)\u00a0scale. Does it look like an exponential distribution? \n",
      "\n"
     ]
    },
    {
     "cell_type": "markdown",
     "metadata": {},
     "source": [
      "## 4.2\u00a0\u00a0The Pareto distribution\n",
      "\n",
      "The Pareto distribution is named after the economist Vilfredo Pareto, who used\n",
      "it to describe the distribution of wealth (see\n",
      "`http://wikipedia.org/wiki/Pareto_distribution`). Since then, it has been used\n",
      "to describe phenomena in the natural and social sciences including sizes of\n",
      "cities and towns, sand particles and meteorites, forest fires and earthquakes.\n",
      "\n",
      "The CDF of the Pareto distribution is:\n",
      "\n",
      "$$CDF(x) = 1- \\left(\\frac{x}{x_m}\\right)^{-\\alpha} $$\n",
      "\n",
      "The parameters \\\\(x_m\\\\) and \\\\(\\alpha\\\\)\u00a0determine the location and shape of the\n",
      "distribution. \\\\(x_m\\\\) is the minimum possible value. Figure\u00a04.4 shows the CDF of\n",
      "a Pareto distribution with parameters \\\\(x_m = 0.5\\\\)\u00a0and \\\\(\\alpha\u00a0=\u00a01\\\\).\n"
     ]
    },
    {
     "cell_type": "code",
     "collapsed": false,
     "input": [
      "def pareto_cdf(x, x_m, a):\n",
      "    return 1-((x/x_m)**(-a))\n",
      "\n",
      "X = np.linspace(0.5,10, 100)\n",
      "pd.DataFrame(pareto_cdf(X,0.5,1), X).plot()"
     ],
     "language": "python",
     "metadata": {},
     "outputs": [
      {
       "metadata": {},
       "output_type": "pyout",
       "prompt_number": 7,
       "text": [
        "<matplotlib.axes.AxesSubplot at 0x8eca450>"
       ]
      },
      {
       "metadata": {},
       "output_type": "display_data",
       "png": "[encoded data removed]",
       "text": [
        "<matplotlib.figure.Figure at 0x8ecaeb0>"
       ]
      }
     ],
     "prompt_number": 7
    },
    {
     "cell_type": "markdown",
     "metadata": {},
     "source": [
      "\n",
      "The median of this distribution is \\\\(x_m 2^{1/\\alpha}\\\\) , which is 1, but the 95th\n",
      "percentile is 10. By contrast, the exponential distribution with median 1 has\n",
      "95th percentile of only 1.5.\n",
      "\n",
      "There is a simple visual test that indicates whether an empirical distribution\n",
      "fits a Pareto distribution: on a log-log scale, the CCDF looks like a straight\n",
      "line. If you plot the CCDF of a sample from a Pareto distribution on a linear\n",
      "scale, you expect to see a function like:\n",
      "\n",
      "$$ y \\approx \\left( \\frac{x}{x_m} \\right)^{-\\alpha}$$\n",
      "\n",
      "Taking the log of both sides yields:\n",
      "\n",
      "$$ log y \\approx \\alpha (log(x) - log(x_m)) $$\n",
      "\n",
      "So if you plot log \\\\(y\\\\)\u00a0versus log \\\\(x\\\\), it should look like a straight line\n",
      "with slope \\\\(\u2212\\alpha\\\\) and intercept \\\\(\\alpha\u00a0log(x_m) \\\\).\n",
      "\n",
      "**Exercise\u00a03**\u00a0\u00a0The `random` module provides `paretovariate`, which generates random values from a Pareto distribution. It takes a parameter for \\\\(\\alpha\\\\), but not \\\\(x_m\\\\). The default value for \\\\(x_m\\\\) is 1; you can generate a distribution with a different parameter by multiplying by \\\\(x_m\\\\). \n",
      "\n",
      "Write a wrapper function named `paretovariate` that takes \\\\(\\alpha\\\\)\u00a0and \\\\(x_m\\\\) as\n",
      "parameters and uses `random.paretovariate` to generate values from a two-\n",
      "parameter Pareto distribution. \n",
      "\n",
      "Use your function to generate a sample from a Pareto distribution. Compute\n",
      "the CCDF and plot it on a log-log scale. Is it a straight line? What is the\n",
      "slope? \n",
      "\n"
     ]
    },
    {
     "cell_type": "code",
     "collapsed": false,
     "input": [
      "# excercise 3\n",
      "\n",
      "import random\n",
      "\n",
      "def paretovariate(a, xm):\n",
      "    \"\"\"\n",
      "    Generates a random pareto variable, we shape `a` and scale `xm`.\n",
      "    \"\"\"\n",
      "    return random.paretovariate(a)*xm"
     ],
     "language": "python",
     "metadata": {},
     "outputs": [],
     "prompt_number": 8
    },
    {
     "cell_type": "code",
     "collapsed": false,
     "input": [
      "X = [paretovariate(2,2) for _ in xrange(44)]\n",
      "X = sorted(X)\n",
      "plt.step(X[::-1], np.linspace(0,1, len(X)), label='post')"
     ],
     "language": "python",
     "metadata": {},
     "outputs": [
      {
       "metadata": {},
       "output_type": "pyout",
       "prompt_number": 9,
       "text": [
        "[<matplotlib.lines.Line2D at 0x8f48350>]"
       ]
      },
      {
       "metadata": {},
       "output_type": "display_data",
       "png": "[encoded data removed]",
       "text": [
        "<matplotlib.figure.Figure at 0x8cfbe30>"
       ]
      }
     ],
     "prompt_number": 9
    },
    {
     "cell_type": "markdown",
     "metadata": {},
     "source": [
      "**Exercise\u00a04**\u00a0\u00a0To get a feel for the Pareto distribution, imagine what the world would be like if the distribution of human height were Pareto. Choosing the parameters \\\\(x_m =\u00a0100 cm\\\\)\u00a0 and \\\\(\\alpha = 1.7\\\\), we get a distribution with a reasonable minimum, 100 cm, and median, 150 cm. \n",
      "\n",
      "Generate 6 million random values from this distribution. What is the mean of\n",
      "this sample? What fraction of the population is shorter than the mean? How\n",
      "tall is the tallest person in Pareto World? \n"
     ]
    },
    {
     "cell_type": "code",
     "collapsed": false,
     "input": [
      "X = [paretovariate(1.7,100) for _ in xrange(6000000)]\n",
      "mX = np.mean(X)\n",
      "print \"Mean is: %.2f\" % (mX/100)\n",
      "print \"Fraction less than mean is: %.2f\" % (float(sum([1 for x in X if x < mX]))/6000000.0)\n",
      "print \"Tallest person is %.2f m\" % (max(X)/100.0)"
     ],
     "language": "python",
     "metadata": {},
     "outputs": [
      {
       "output_type": "stream",
       "stream": "stdout",
       "text": [
        "Mean is: 2.43\n",
        "Fraction less than mean is: 0.78"
       ]
      },
      {
       "output_type": "stream",
       "stream": "stdout",
       "text": [
        "\n",
        "Tallest person is 8554.53 m"
       ]
      },
      {
       "output_type": "stream",
       "stream": "stdout",
       "text": [
        "\n"
       ]
      }
     ],
     "prompt_number": 10
    },
    {
     "cell_type": "markdown",
     "metadata": {},
     "source": [
      "**Exercise\u00a05**\u00a0\u00a0Zipf\u2019s law is an observation about how often different words are used. The most common words have very high frequencies, but there are many unusual words, like \u201chapaxlegomenon,\u201d that appear only a few times. Zipf\u2019s law predicts that in a body of text, called a \u201ccorpus,\u201d the distribution of word frequencies is roughly Pareto. \n",
      "\n",
      "Find a large corpus, in any language, in electronic format. Count how many\n",
      "times each word appears. Find the CCDF of the word counts and plot it on a\n",
      "log-log scale. Does Zipf\u2019s law hold? What is the value of \\\\(\\alpha\\\\), approximately? \n"
     ]
    },
    {
     "cell_type": "code",
     "collapsed": false,
     "input": [
      "# we shall use Holy Bible KJV as our corpus.\n",
      "\n",
      "import re\n",
      "\n",
      "bible = \"data/HolyBible-KJV.txt\"\n",
      "dat = open(bible).read().lower()\n",
      "\n",
      "dat = re.sub(r\"[^a-z' ]\", ' ', dat)\n",
      "dat = re.sub(r\"'\", '', dat) #remove apostrophe 's\n",
      "dat = re.sub(r'\\s+', ' ', dat)\n",
      "\n",
      "wordfreq = {}\n",
      "\n",
      "for word in dat.split():\n",
      "    if len(word) < 3: continue\n",
      "    wordfreq[word] = wordfreq.get(word, 0) + 1\n",
      "\n",
      "wordf = wordfreq.values()"
     ],
     "language": "python",
     "metadata": {},
     "outputs": [],
     "prompt_number": 11
    },
    {
     "cell_type": "code",
     "collapsed": false,
     "input": [
      "# then use the wordfreq.values() to plot histogram and estimate alpha\n",
      "# using MLE estimator for xm and alpha we get:\n",
      "\n",
      "xm = min(wordf)\n",
      "n = len(wordf)\n",
      "a = float(n)/sum(np.log(wordf) - np.log(xm))"
     ],
     "language": "python",
     "metadata": {},
     "outputs": [],
     "prompt_number": 12
    },
    {
     "cell_type": "code",
     "collapsed": false,
     "input": [
      "# plot CCDF\n",
      "X = sorted(wordf)\n",
      "plt.step(X[::-1], np.linspace(0,1, len(X)), label='post')\n",
      "plt.xscale('log')\n",
      "plt.show()"
     ],
     "language": "python",
     "metadata": {},
     "outputs": [
      {
       "metadata": {},
       "output_type": "display_data",
       "png": "[encoded data removed]",
       "text": [
        "<matplotlib.figure.Figure at 0x8f368d0>"
       ]
      }
     ],
     "prompt_number": 13
    },
    {
     "cell_type": "markdown",
     "metadata": {},
     "source": [
      "**Exercise\u00a06**\u00a0\u00a0 \n",
      "\n",
      "The Weibull distribution is a generalization of the exponential distribution\n",
      "that comes up in failure analysis (see\n",
      "http://wikipedia.org/wiki/Weibull_distribution). Its CDF is \n",
      "\n",
      "$$ CDF(x)\u00a0=\u00a01\u00a0\u2212\u00a0e^{(x/\\lambda)k} $$\n",
      "\n",
      "Can you find a transformation that makes a Weibull distribution look like a\n",
      "straight line? What do the slope and intercept of the line indicate? \n",
      "\n",
      "Use `random.weibullvariate` to generate a sample from a Weibull distribution\n",
      "and use it to test your transformation.\n",
      "\n"
     ]
    },
    {
     "cell_type": "code",
     "collapsed": false,
     "input": [
      "shape = 2\n",
      "scale = 1 # scale doesn't matter for the transformation\n",
      "\n",
      "t = [random.weibullvariate(scale, shape) for x in range(100000)]\n",
      "plt.hist(t, bins=100)\n",
      "plt.show()"
     ],
     "language": "python",
     "metadata": {},
     "outputs": [
      {
       "metadata": {},
       "output_type": "display_data",
       "png": "[encoded data removed]",
       "text": [
        "<matplotlib.figure.Figure at 0x8f5a910>"
       ]
      }
     ],
     "prompt_number": 14
    },
    {
     "cell_type": "code",
     "collapsed": false,
     "input": [
      "def transform(x, k):\n",
      "    \"\"\"\n",
      "    In order to create a straight line, consider that to generate a weibull variate, the transformation would be:\n",
      "    (this is the quantile or inverse cumulative distribution)\n",
      "    \n",
      "    X = scale * (-log(U))^(1/shape)\n",
      "    \n",
      "    where U ~ Uniform(0,1)\n",
      "    \n",
      "    rearranging and considering that scale only makes the range greater or smaller (i.e. has no effect whether the line is \"straight\"\n",
      "    or not) you can see that the tranformation is:\n",
      "    \n",
      "    U is proportional to exp(x^shape)\n",
      "    \"\"\"    \n",
      "    return np.exp(-x**k)\n",
      "\n",
      "tt=[transform(x, shape) for x in t]\n",
      "plt.hist(tt,bins=100)\n",
      "plt.show()"
     ],
     "language": "python",
     "metadata": {},
     "outputs": [
      {
       "metadata": {},
       "output_type": "display_data",
       "png": "[encoded data removed]",
       "text": [
        "<matplotlib.figure.Figure at 0x92aadf0>"
       ]
      }
     ],
     "prompt_number": 15
    },
    {
     "cell_type": "markdown",
     "metadata": {},
     "source": [
      "## 4.3\u00a0\u00a0The normal distribution\n",
      "\n",
      "The normal distribution, also called Gaussian, is the most commonly used\n",
      "because it describes so many phenomena, at least approximately. It turns out\n",
      "that there is a good reason for its ubiquity, which we will get to in Section\n",
      "[6.6](thinkstats007.html#CLT).\n",
      "\n",
      "The normal distribution has many properties that make it amenable for\n",
      "analysis, but the CDF is not one of them. Unlike the other distributions we\n",
      "have looked at, there is no closed-form expression for the normal CDF; the\n",
      "most common alternative is to write it in terms of the **error function**,\n",
      "which is a special function written erf(\\\\(x\\\\)):\n",
      "\n",
      "$$  CFD(x) = \\frac{1}{2} \\left[ 1+ erf\\left( \\frac{x-\\mu}{\\sigma\\sqrt{2}}\\right) \\right]   $$\n",
      "\n",
      "The parameters \\\\(\\mu\\\\)\u00a0and \\\\(\\sigma\\\\)\u00a0determine the mean and standard deviation of the\n",
      "distribution.\n",
      "\n",
      "If these formulas make your eyes hurt, don\u2019t worry; they are easy to implement\n",
      "in Python. There are many fast and accurate ways to approximate erf(\\\\(x\\\\)). You\n",
      "can download one of them from `http://thinkstats.com/erf.py`, which provides\n",
      "functions named `erf` and `NormalCdf`.\n",
      "\n",
      "Figure\u00a04.5 shows the CDF of the normal distribution with parameters \\\\(\\mu = 2.0\\\\)\n",
      "and \\\\(\\sigma = 0.5 \\\\). The sigmoid shape of this curve is a recognizable characteristic\n",
      "of a normal distribution.\n",
      "\n"
     ]
    },
    {
     "cell_type": "code",
     "collapsed": false,
     "input": [
      "from scipy.stats import norm\n",
      "\n",
      "X = np.linspace(0.0,4.0, 100000)\n",
      "t = norm.cdf(X, 2.0, 0.5)\n",
      "pd.DataFrame(t, X).plot()"
     ],
     "language": "python",
     "metadata": {},
     "outputs": [
      {
       "metadata": {},
       "output_type": "pyout",
       "prompt_number": 16,
       "text": [
        "<matplotlib.axes.AxesSubplot at 0x1220b030>"
       ]
      },
      {
       "metadata": {},
       "output_type": "display_data",
       "png": "[encoded data removed]",
       "text": [
        "<matplotlib.figure.Figure at 0x12209c30>"
       ]
      }
     ],
     "prompt_number": 16
    },
    {
     "cell_type": "markdown",
     "metadata": {},
     "source": [
      "\n",
      "In the previous chapter we looked at the distribution of birth weights in the\n",
      "NSFG. Figure\u00a04.6 shows the empirical CDF of weights for all live births and\n",
      "the CDF of a normal distribution with the same mean and variance.\n"
     ]
    },
    {
     "cell_type": "code",
     "collapsed": false,
     "input": [
      "import gzip\n",
      "\n",
      "def makeRecord(line, fields):\n",
      "    obs = {}\n",
      "    for (field, start, end, cast) in fields:\n",
      "        try:\n",
      "            s = line[start-1:end]\n",
      "            val = cast(s)\n",
      "        except ValueError:\n",
      "            val = np.nan #make use of numpy's nan\n",
      "        obs[field]=val\n",
      "    return obs\n",
      "\n",
      "fresp = gzip.open('./data/2002FemResp.dat.gz')\n",
      "resp_fields = [\n",
      "            ('caseid', 1, 12, int),\n",
      "            ]\n",
      "\n",
      "fpreg = gzip.open('./data/2002FemPreg.dat.gz')\n",
      "preg_fields = [  ('caseid', 1, 12, int),\n",
      "            ('nbrnaliv', 22, 22, int),\n",
      "            ('babysex', 56, 56, int),\n",
      "            ('birthwgt_lb', 57, 58, int),\n",
      "            ('birthwgt_oz', 59, 60, int),\n",
      "            ('prglength', 275, 276, int),\n",
      "            ('outcome', 277, 277, int),\n",
      "            ('birthord', 278, 279, int),\n",
      "            ('agepreg', 284, 287, int),\n",
      "            ('finalwgt', 423, 440, float)]\n",
      "\n",
      "respondents = pd.DataFrame([makeRecord(line, resp_fields) for line in fresp])\n",
      "pregnancies = pd.DataFrame([makeRecord(line, preg_fields) for line in fpreg])\n",
      "\n",
      "#recode\n",
      "pregnancies['agepreg'] = pregnancies.agepreg/100.0\n",
      "pregnancies['totalwgt_oz'] = pregnancies.birthwgt_lb * 16 + pregnancies.birthwgt_oz\n"
     ],
     "language": "python",
     "metadata": {},
     "outputs": [],
     "prompt_number": 17
    },
    {
     "cell_type": "code",
     "collapsed": false,
     "input": [
      "tot = [x for x in pregnancies['totalwgt_oz'] if not np.isnan(x) and x < 250]\n",
      "tot = sorted(tot)\n",
      "\n",
      "X = np.linspace(0.0, 250.0, len(tot))\n",
      "Y = norm.cdf(X, np.mean(tot), np.std(tot))\n",
      "\n",
      "plt.step(tot, np.linspace(0,1, len(tot)), label='post')\n",
      "plt.plot(X, Y)\n",
      "plt.show()"
     ],
     "language": "python",
     "metadata": {},
     "outputs": [
      {
       "metadata": {},
       "output_type": "display_data",
       "png": "[encoded data removed]",
       "text": [
        "<matplotlib.figure.Figure at 0x1220fd10>"
       ]
      }
     ],
     "prompt_number": 18
    },
    {
     "cell_type": "markdown",
     "metadata": {},
     "source": [
      "\n",
      "The normal distribution is a good model for this dataset. A **model** is a\n",
      "useful simplification. In this case it is useful because we can summarize the\n",
      "entire distribution with just two numbers, \\\\(\\mu\\\\)\u00a0=\u00a0116.5 and \\\\(\\sigma\\\\)\u00a0=\u00a019.9, and the\n",
      "resulting error (difference between the model and the data) is small.\n",
      "\n",
      "Below the 10th percentile there is a discrepancy between the data and the\n",
      "model; there are more light babies than we would expect in a normal\n",
      "distribution. If we are interested in studying preterm babies, it would be\n",
      "important to get this part of the distribution right, so it might not be\n",
      "appropriate to use the normal model.\n",
      "\n",
      "**Exercise\u00a07**\u00a0\u00a0The Wechsler Adult Intelligence Scale is a test that is intended to measure intelligence. Results are transformed so that the distribution of scores in the general population is normal with \u00b5\u00a0=\u00a0100 and \u03c3\u00a0=\u00a015. \n",
      "\n",
      "Use `erf.NormalCdf` to investigate the frequency of rare events in a normal\n",
      "distribution. What fraction of the population has an IQ greater than the mean?\n",
      "What fraction is over 115? 130? 145?\n",
      "\n",
      "A \u201csix-sigma\u201d event is a value that exceeds the mean by 6 standard\n",
      "deviations, so a six-sigma IQ is 190. In a world of 6 billion people, how many\n",
      "do we expect to have an IQ of 190 or [more](http://wikipedia.org/wiki/Christopher_Langan)? \n"
     ]
    },
    {
     "cell_type": "code",
     "collapsed": false,
     "input": [
      "def px_over(iq):\n",
      "    return 1-norm.cdf(iq, 100, 15)\n",
      "\n",
      "print \"IQ greater than 115: %.2f\" % px_over(115)\n",
      "print \"IQ greater than 130: %.2f\" % px_over(130)\n",
      "print \"IQ greater than 145: %.2f\" % px_over(145)"
     ],
     "language": "python",
     "metadata": {},
     "outputs": [
      {
       "output_type": "stream",
       "stream": "stdout",
       "text": [
        "IQ greater than 115: 0.16\n",
        "IQ greater than 130: 0.02\n",
        "IQ greater than 145: 0.00\n"
       ]
      }
     ],
     "prompt_number": 19
    },
    {
     "cell_type": "code",
     "collapsed": false,
     "input": [
      "print \"approximately %.0f people have an IQ 190 or greater \" % (6000000000*(1-norm.cdf(190, 100, 15)))"
     ],
     "language": "python",
     "metadata": {},
     "outputs": [
      {
       "output_type": "stream",
       "stream": "stdout",
       "text": [
        "approximately 6 people have an IQ 190 or greater \n"
       ]
      }
     ],
     "prompt_number": 20
    },
    {
     "cell_type": "markdown",
     "metadata": {},
     "source": [
      "\n",
      "**Exercise\u00a08**\u00a0\u00a0Plot the CDF of pregnancy lengths for all live births. Does it look like a normal distribution? \n",
      "\n",
      "Compute the mean and standard deviation of the sample and plot the normal\n",
      "distribution with the same parameters. Is the normal distribution a good model\n",
      "for this data? If you had to summarize this distribution with two statistics,\n",
      "what statistics would you choose?\n",
      "\n"
     ]
    },
    {
     "cell_type": "code",
     "collapsed": false,
     "input": [
      "tot = [x for x in pregnancies['prglength'] if not np.isnan(x)]\n",
      "\n",
      "tot = sorted(tot)\n",
      "\n",
      "X = np.linspace(0.0, 50.0, len(tot))\n",
      "Y = norm.cdf(X, np.mean(tot), np.std(tot))\n",
      "\n",
      "plt.step(tot, np.linspace(0,1, len(tot)), label='post')\n",
      "plt.plot(X, Y)\n",
      "plt.show()"
     ],
     "language": "python",
     "metadata": {},
     "outputs": [
      {
       "metadata": {},
       "output_type": "display_data",
       "png": "[encoded data removed]",
       "text": [
        "<matplotlib.figure.Figure at 0x12226c90>"
       ]
      }
     ],
     "prompt_number": 21
    },
    {
     "cell_type": "code",
     "collapsed": false,
     "input": [
      "plt.hist(tot)\n",
      "\n",
      "# probably the two most frequent groupings of time since it is bimodal?"
     ],
     "language": "python",
     "metadata": {},
     "outputs": [
      {
       "metadata": {},
       "output_type": "pyout",
       "prompt_number": 22,
       "text": [
        "(array([  665.,  1902.,   984.,   387.,   245.,   201.,   459.,  6496.,\n",
        "        2233.,    21.]),\n",
        " array([  0.,   5.,  10.,  15.,  20.,  25.,  30.,  35.,  40.,  45.,  50.]),\n",
        " <a list of 10 Patch objects>)"
       ]
      },
      {
       "metadata": {},
       "output_type": "display_data",
       "png": "[encoded data removed]",
       "text": [
        "<matplotlib.figure.Figure at 0x1220c650>"
       ]
      }
     ],
     "prompt_number": 22
    },
    {
     "cell_type": "markdown",
     "metadata": {},
     "source": [
      "## 4.4\u00a0\u00a0Normal probability plot\n",
      "\n",
      "For the exponential, Pareto and Weibull distributions, there are simple\n",
      "transformations we can use to test whether a continuous distribution is a good\n",
      "model of a dataset.\n",
      "\n",
      "For the normal distribution there is no such transformation, but there is an\n",
      "alternative called a **normal probability plot**. It is based on **rankits**:\n",
      "if you generate \\\\(n\\\\)\u00a0values from a normal distribution and sort them, the \\\\(k\\\\)th\n",
      "rankit is the mean of the distribution for the \\\\(k\\\\)th value.\n",
      "\n",
      "**Exercise\u00a09**\u00a0\u00a0 Write a function called `Sample` that generates 6 samples from a normal distribution with \\\\(\\mu\u00a0=\u00a00\\\\) and \\\\(\\sigma\u00a0=\u00a01\\\\). Sort and return the values.\n",
      "\n",
      "Write a function called `Samples` that calls `Sample` 1000 times and returns\n",
      "a list of 1000 lists.\n",
      "\n",
      "If you apply `zip` to this list of lists, the result is 6 lists with 1000\n",
      "values in each. Compute the mean of each of these lists and print the results.\n",
      "I predict that you will get something like this:\n",
      "\n",
      "$${\u22121.2672, \u22120.6418, \u22120.2016, 0.2016, 0.6418, 1.2672}$$\n",
      "\n",
      "If you increase the number of times you call `Sample`, the results should\n",
      "converge on these values.\n",
      "\n"
     ]
    },
    {
     "cell_type": "code",
     "collapsed": false,
     "input": [
      "def sample():\n",
      "    sample = np.random.normal(size=6)\n",
      "    sample = sorted(sample)\n",
      "    return sample\n",
      "\n",
      "def samples():\n",
      "    return [sample() for x in range(1000)]\n",
      "\n",
      "[np.mean(x) for x in zip(*samples())]"
     ],
     "language": "python",
     "metadata": {},
     "outputs": [
      {
       "metadata": {},
       "output_type": "pyout",
       "prompt_number": 23,
       "text": [
        "[-1.2632382211617936,\n",
        " -0.6374433232211163,\n",
        " -0.17601767980968869,\n",
        " 0.22020958302174812,\n",
        " 0.66699479302211284,\n",
        " 1.2847728802495015]"
       ]
      }
     ],
     "prompt_number": 23
    },
    {
     "cell_type": "markdown",
     "metadata": {},
     "source": [
      "Computing rankits exactly is moderately difficult, but there are numerical\n",
      "methods for approximating them. And there is a quick-and-dirty method that is\n",
      "even easier to implement:\n",
      "\n",
      "  1. From a normal distribution with \\\\(\\mu\u00a0=\u00a00\\\\) and \\\\(\\sigma\u00a0=\u00a01\\\\), generate a sample with the same size as your dataset and sort it.\n",
      "  2. Sort the values in the dataset.\n",
      "  3. Plot the sorted values from your dataset versus the random values.\n",
      "\n",
      "For large datasets, this method works well. For smaller datasets, you can\n",
      "improve it by generating \\\\(m(n+1)\u00a0\u2212\u00a01\\\\) values from a normal distribution,\n",
      "where \\\\(n\\\\)\u00a0is the size of the dataset and \\\\(m\\\\)\u00a0is a multiplier. Then select\n",
      "every \\\\(m\\\\)th element, starting with the \\\\(m\\\\)th.\n",
      "\n",
      "This method works with other distributions as well, as long as you know how to\n",
      "generate a random sample.\n",
      "\n",
      "Figure\u00a04.7 is a quick-and-dirty normal probability plot for the birth weight\n",
      "data.\n"
     ]
    },
    {
     "cell_type": "code",
     "collapsed": false,
     "input": [
      "tot = [x for x in pregnancies['totalwgt_oz'] if not np.isnan(x) and x < 250]\n",
      "tot = sorted(tot)\n",
      "\n",
      "Y = np.random.normal(size=len(tot))\n",
      "Y = sorted(Y)\n",
      "plt.scatter(tot,Y, s=.2)\n",
      "plt.show()"
     ],
     "language": "python",
     "metadata": {},
     "outputs": [
      {
       "metadata": {},
       "output_type": "display_data",
       "png": "[encoded data removed]",
       "text": [
        "<matplotlib.figure.Figure at 0x1220c0b0>"
       ]
      }
     ],
     "prompt_number": 24
    },
    {
     "cell_type": "markdown",
     "metadata": {},
     "source": [
      "\n",
      "The curvature in this plot suggests that there are deviations from a normal\n",
      "distribution; nevertheless, it is a good (enough) model for many purposes.\n",
      "\n",
      "**Exercise\u00a010**\u00a0\u00a0_ Write a function called `NormalPlot` that takes a sequence of values and generates a normal probability plot. You can download a solution from `http://thinkstats.com/rankit.py`. _\n",
      "\n",
      "_Use the running speeds from `relay.py` to generate a normal probability plot.\n",
      "Is the normal distribution a good model for this data? You can download a\n",
      "solution from `http://thinkstats.com/relay_normal.py`._\n"
     ]
    },
    {
     "cell_type": "code",
     "collapsed": false,
     "input": [
      "# generate a sequence of values\n",
      "gen_seq = np.random.normal(size=1000)\n",
      "gen_seq = sorted(gen_seq)\n",
      "\n",
      "#create plot...\n",
      "Y = np.random.random(size=len(gen_seq))\n",
      "Y = sorted(Y)\n",
      "plt.scatter(gen_seq, Y, s=.2)\n",
      "plt.show()"
     ],
     "language": "python",
     "metadata": {},
     "outputs": [
      {
       "metadata": {},
       "output_type": "display_data",
       "png": "[encoded data removed]",
       "text": [
        "<matplotlib.figure.Figure at 0x1223af70>"
       ]
      }
     ],
     "prompt_number": 25
    },
    {
     "cell_type": "markdown",
     "metadata": {},
     "source": [
      "\n",
      "## 4.5\u00a0\u00a0The lognormal distribution\n",
      "\n",
      "If the logarithms of a set of values have a normal distribution, the values\n",
      "have a **lognormal** distribution. The CDF of the lognormal distribution is\n",
      "the same as the CDF of the normal distribution, with \\\\(log(x)\\\\)\u00a0substituted for\n",
      "\\\\(x\\\\).\n",
      "\n",
      "$$ CDF_{lognormal}(x) = CDF_{normal}(x) $$\n",
      "\n",
      "The parameters of the lognormal distribution are usually denoted \\\\(\\mu\\\\)\u00a0and \\\\(\\sigma\\\\). But\n",
      "remember that these parameters are _not_ the mean and standard deviation; the\n",
      "mean of a lognormal distribution is \\\\(e^{\\mu + \\frac{\\sigma^s}{2}}\\\\) and the standard deviation\n",
      "is [ugly](http://wikipedia.org/wiki/Log-normal_distribution).\n",
      "\n",
      "It turns out that the distribution of [weights for adults is approximately\n",
      "lognormal](http://www.ncbi.nlm.nih.gov/pmc/articles/PMC1636707).\n",
      "\n",
      "The National Center for Chronic Disease Prevention and Health Promotion\n",
      "conducts an annual survey as part of the Behavioral Risk Factor Surveillance\n",
      "System (BRFSS)(Centers for Disease Control and Prevention (CDC). Behavioral Risk Factor Surveillance System Survey Data. Atlanta, Georgia: U.S. Department of Health and Human Services, Centers for Disease Control and Prevention, 2008.). In 2008, they interviewed 414,509 respondents and asked about\n",
      "their demographics, health and health risks.\n"
     ]
    },
    {
     "cell_type": "code",
     "collapsed": false,
     "input": [
      "adult_weight = gzip.open('./data/CDBRFS08.ASC.gz')\n",
      "aw_fields = [('age', 101, 102, int),\n",
      "            ('weight2', 119, 122, int),\n",
      "            ('wtyrago', 127, 130, int),\n",
      "            ('wtkg2', 1254, 1258, int),\n",
      "            ('htm3', 1251, 1253, int),\n",
      "            ('sex', 143, 143, int),]\n",
      "\n",
      "aw_data = pd.DataFrame([makeRecord(line, aw_fields) for line in adult_weight])"
     ],
     "language": "python",
     "metadata": {},
     "outputs": [],
     "prompt_number": 35
    },
    {
     "cell_type": "code",
     "collapsed": false,
     "input": [
      "# recode and cleanse data\n",
      "\n",
      "def CleanWeight(weight):\n",
      "    if weight in [7777, 9999]:\n",
      "        return 'NA'\n",
      "    elif weight < 1000:\n",
      "        return weight / 2.2\n",
      "    elif 9000 < weight < 9999:\n",
      "        return weight - 9000\n",
      "    else:\n",
      "        return weight\n",
      "\n",
      "aw_data['wtkg2'] = aw_data['wtkg2'].apply(lambda x: np.nan if x in ['NA', 99999] else x/100.0)\n",
      "aw_data['weight2'] = aw_data['weight2'].apply(CleanWeight)\n",
      "aw_data['wtyrago'] = aw_data['wtyrago'].apply(CleanWeight)\n",
      "aw_data['htm3'] = aw_data['htm3'].apply(lambda x: np.nan if x == 999 else x)\n",
      "aw_data['age'] = aw_data['age'].apply(lambda x: np.nan if x in [7,9] else x)"
     ],
     "language": "python",
     "metadata": {},
     "outputs": [
      {
       "html": [
        "<div style=\"max-height:1000px;max-width:1500px;overflow:auto;\">\n",
        "<table border=\"1\" class=\"dataframe\">\n",
        "  <thead>\n",
        "    <tr style=\"text-align: right;\">\n",
        "      <th></th>\n",
        "      <th>age</th>\n",
        "      <th>htm3</th>\n",
        "      <th>sex</th>\n",
        "      <th>weight2</th>\n",
        "      <th>wtkg2</th>\n",
        "      <th>wtyrago</th>\n",
        "    </tr>\n",
        "  </thead>\n",
        "  <tbody>\n",
        "    <tr>\n",
        "      <th>0</th>\n",
        "      <td> 39</td>\n",
        "      <td> 180</td>\n",
        "      <td> 1</td>\n",
        "      <td> 88.63636</td>\n",
        "      <td>  88.64</td>\n",
        "      <td> 88.63636</td>\n",
        "    </tr>\n",
        "    <tr>\n",
        "      <th>1</th>\n",
        "      <td> 64</td>\n",
        "      <td> 155</td>\n",
        "      <td> 2</td>\n",
        "      <td>       75</td>\n",
        "      <td>  75.00</td>\n",
        "      <td> 84.54545</td>\n",
        "    </tr>\n",
        "    <tr>\n",
        "      <th>2</th>\n",
        "      <td> 87</td>\n",
        "      <td> NaN</td>\n",
        "      <td> 2</td>\n",
        "      <td> 61.81818</td>\n",
        "      <td>  61.82</td>\n",
        "      <td> 63.63636</td>\n",
        "    </tr>\n",
        "    <tr>\n",
        "      <th>3</th>\n",
        "      <td> 51</td>\n",
        "      <td> 183</td>\n",
        "      <td> 1</td>\n",
        "      <td>      100</td>\n",
        "      <td> 100.00</td>\n",
        "      <td>      100</td>\n",
        "    </tr>\n",
        "    <tr>\n",
        "      <th>4</th>\n",
        "      <td> 35</td>\n",
        "      <td> 170</td>\n",
        "      <td> 2</td>\n",
        "      <td> 63.63636</td>\n",
        "      <td>  63.64</td>\n",
        "      <td> 61.36364</td>\n",
        "    </tr>\n",
        "  </tbody>\n",
        "</table>\n",
        "<p>5 rows \u00d7 6 columns</p>\n",
        "</div>"
       ],
       "metadata": {},
       "output_type": "pyout",
       "prompt_number": 36,
       "text": [
        "   age  htm3  sex   weight2   wtkg2   wtyrago\n",
        "0   39   180    1  88.63636   88.64  88.63636\n",
        "1   64   155    2        75   75.00  84.54545\n",
        "2   87   NaN    2  61.81818   61.82  63.63636\n",
        "3   51   183    1       100  100.00       100\n",
        "4   35   170    2  63.63636   63.64  61.36364\n",
        "\n",
        "[5 rows x 6 columns]"
       ]
      }
     ],
     "prompt_number": 36
    },
    {
     "cell_type": "code",
     "collapsed": false,
     "input": [
      "weights = np.log(sorted([x for x in aw_data['weight2'] if x != 'NA' and not np.isnan(x)]))\n",
      "X = np.linspace(min(weights), max(weights), len(weights))\n",
      "Y = norm.cdf(X, np.mean(weights), np.std(weights))\n",
      "\n",
      "plt.step(weights, np.linspace(0,1, len(weights)), label='post')\n",
      "plt.plot(X,Y)\n",
      "plt.show()"
     ],
     "language": "python",
     "metadata": {},
     "outputs": [
      {
       "metadata": {},
       "output_type": "display_data",
       "png": "[encoded data removed]",
       "text": [
        "<matplotlib.figure.Figure at 0x1229bf30>"
       ]
      }
     ],
     "prompt_number": 56
    },
    {
     "cell_type": "markdown",
     "metadata": {},
     "source": [
      "Among the data they collected are the weights in kilograms of 398,484\n",
      "respondents. Figure\u00a04.8 shows the distribution of log _w_, where _w_\u00a0is weight\n",
      "in kilograms, along with a normal model.\n",
      "\n",
      "The normal model is a good fit for the data, although the highest weights\n",
      "exceed what we expect from the normal model even after the log transform.\n",
      "Since the distribution of log _w_\u00a0fits a normal distribution, we conclude that\n",
      "_w_\u00a0fits a lognormal distribution.\n",
      "\n",
      "**Exercise\u00a011**\u00a0\u00a0Download the BRFSS data from http://thinkstats.com/CDBRFS08.ASC.gz, and my code for reading it from http://thinkstats.com/brfss.py. Run `brfss.py` and confirm that it prints summary statistics for a few of the variables. \n",
      "\n",
      "Write a program that reads adult weights from the BRFSS and generates normal\n",
      "probability plots for \\\\(w\\\\)\u00a0and \\\\(log(w)\\\\). You can download a solution from\n",
      "http://thinkstats.com/brfss_figs.py.\n"
     ]
    },
    {
     "cell_type": "code",
     "collapsed": false,
     "input": [
      "#create plot... (this is for log weight)\n",
      "Y = np.random.random(size=len(weights))\n",
      "Y = sorted(Y)\n",
      "plt.scatter(weights, Y, s=.2)\n",
      "plt.show()"
     ],
     "language": "python",
     "metadata": {},
     "outputs": [
      {
       "metadata": {},
       "output_type": "display_data",
       "png": "[encoded data removed]",
       "text": [
        "<matplotlib.figure.Figure at 0x1229c730>"
       ]
      }
     ],
     "prompt_number": 57
    },
    {
     "cell_type": "code",
     "collapsed": false,
     "input": [
      "# for non-transformed weight\n",
      "weights = sorted([x for x in aw_data['weight2'] if x != 'NA' and not np.isnan(x)])\n",
      "Y = np.random.random(size=len(weights))\n",
      "Y = sorted(Y)\n",
      "plt.scatter(weights, Y, s=.2)\n",
      "plt.show()"
     ],
     "language": "python",
     "metadata": {},
     "outputs": [
      {
       "metadata": {},
       "output_type": "display_data",
       "png": "[encoded data removed]",
       "text": [
        "<matplotlib.figure.Figure at 0x122ac490>"
       ]
      }
     ],
     "prompt_number": 58
    },
    {
     "cell_type": "markdown",
     "metadata": {},
     "source": [
      "\n",
      "**Exercise\u00a012**\u00a0\u00a0The distribution of populations for cities and towns has been proposed as an example of a real-world phenomenon that can be described with a Pareto distribution. \n",
      "\n",
      "The U.S.\u00a0Census Bureau publishes data on the population of every incorporated\n",
      "city and town in the United States. I have written a small program that\n",
      "downloads this data and stores it in a file. You can download it from\n",
      "http://thinkstats.com/populations.py. \n",
      "\n",
      "1. _Read over the program to make sure you know what it does; then run it to download and process the data._\n",
      "2. _Write a program that computes and plots the distribution of populations for the 14,593 cities and towns in the dataset._\n",
      "3. _Plot the CDF on linear and \\\\(log(x)\\\\)\u00a0scales so you can get a sense of the shape of the distribution. Then plot the CCDF on a log-log scale to see if it has the characteristic shape of a Pareto distribution. _\n",
      "4. _Try out the other transformations and plots in this chapter to see if there is a better model for this data._\n",
      "\n",
      "What conclusion do you draw about the distribution of sizes for cities and\n",
      "towns? You can download a solution from\n",
      "http://thinkstats.com/populations_cdf.py. \n"
     ]
    },
    {
     "cell_type": "code",
     "collapsed": false,
     "input": [
      "population = open('./data/populations.csv').readlines()\n",
      "#ignore empty lines\n",
      "\n",
      "title_ = \"City\"+population[3].strip()\n",
      "population = [x.strip() for x in population[4:-6]]"
     ],
     "language": "python",
     "metadata": {},
     "outputs": [],
     "prompt_number": 105
    },
    {
     "cell_type": "code",
     "collapsed": false,
     "input": [
      "pattern = r',(?=\")|(?<=\\w),(?=\\w)|(?<=\"),(?=\\w)'\n",
      "title = re.compile(pattern).split(title_)"
     ],
     "language": "python",
     "metadata": {},
     "outputs": [],
     "prompt_number": 106
    },
    {
     "cell_type": "code",
     "collapsed": false,
     "input": [
      "if re.compile(r'city|town', re.IGNORECASE).search('city'):\n",
      "    print 'yes'"
     ],
     "language": "python",
     "metadata": {},
     "outputs": [
      {
       "output_type": "stream",
       "stream": "stdout",
       "text": [
        "yes\n"
       ]
      }
     ],
     "prompt_number": 112
    },
    {
     "cell_type": "code",
     "collapsed": false,
     "input": [
      "import re\n",
      "# remove all commas which are between two numbers\n",
      "\n",
      "def clean_string(s):\n",
      "    pattern = r'(?<=\\d),(?=\\d\\d\\d\")'\n",
      "    s = re.sub(pattern, '', s)\n",
      "    s = re.sub(r'\"', '', s)\n",
      "    return s.split(',')\n",
      "\n",
      "#population = pd.DataFrame([clean_string(x) for x in population], columns = title)    \n",
      "pop = [clean_string(x) for x in population]\n",
      "# remove any row in pop which doesn't have exactly 11 elements.\n",
      "pop = [x for x in pop if len(x) == 11 and re.compile(r'city|town', re.IGNORECASE).search(x[0])]\n",
      "popdf = pd.DataFrame(pop, columns = title)"
     ],
     "language": "python",
     "metadata": {},
     "outputs": [],
     "prompt_number": 114
    },
    {
     "cell_type": "code",
     "collapsed": false,
     "input": [
      "# there are entries which are not numbers, like \"(X)\"\n",
      "\n",
      "def to_int(x):\n",
      "    try:\n",
      "        return np.float32(x)\n",
      "    except:\n",
      "        return np.nan\n",
      "\n",
      "pop_census = []\n",
      "for x in popdf['Census']:\n",
      "    try: \n",
      "        pop_census.append(float(x))\n",
      "    except:\n",
      "        pass\n",
      "        \n",
      "pop_census = sorted(pop_census)\n",
      "plt.step(pop_census, np.linspace(0,1, len(pop_census)), label='post')\n",
      "plt.show()"
     ],
     "language": "python",
     "metadata": {},
     "outputs": [
      {
       "metadata": {},
       "output_type": "display_data",
       "png": "[encoded data removed]",
       "text": [
        "<matplotlib.figure.Figure at 0x1f463c10>"
       ]
      }
     ],
     "prompt_number": 127
    },
    {
     "cell_type": "code",
     "collapsed": false,
     "input": [
      "# log transform\n",
      "plt.step(pop_census, np.linspace(0,1,len(pop_census)), label='post')\n",
      "plt.xscale('log')\n",
      "plt.show()"
     ],
     "language": "python",
     "metadata": {},
     "outputs": [
      {
       "metadata": {},
       "output_type": "display_data",
       "png": "[encoded data removed]",
       "text": [
        "<matplotlib.figure.Figure at 0x1860e710>"
       ]
      }
     ],
     "prompt_number": 126
    },
    {
     "cell_type": "code",
     "collapsed": false,
     "input": [
      "# plot the CCDF (log-log)\n",
      "plt.step(pop_census[::-1], np.linspace(0,1,len(pop_census)), label='post')\n",
      "plt.xscale('log')\n",
      "plt.yscale('log')\n",
      "plt.show()"
     ],
     "language": "python",
     "metadata": {},
     "outputs": [
      {
       "metadata": {},
       "output_type": "display_data",
       "png": "[encoded data removed]",
       "text": [
        "<matplotlib.figure.Figure at 0x19564610>"
       ]
      }
     ],
     "prompt_number": 130
    },
    {
     "cell_type": "markdown",
     "metadata": {},
     "source": [
      "\n",
      "**Exercise\u00a013**\u00a0\u00a0 \n",
      "\n",
      "The Internal Revenue Service of the United States (IRS) provides data about\n",
      "income taxes at http://irs.gov/taxstats. \n",
      "\n",
      "One of their files, containing information about individual incomes for 2008,\n",
      "is available from http://thinkstats.com/08in11si.csv. I converted it to a\n",
      "text format called CSV, which stands for \u201ccomma-separated values;\u201d you can\n",
      "read it using the `csv` module.\n",
      "\n",
      "Extract the distribution of incomes from this dataset. Are any of the\n",
      "continuous distributions in this chapter a good model of the data? You can\n",
      "download a solution from `http://thinkstats.com/irs.py`. \n"
     ]
    },
    {
     "cell_type": "markdown",
     "metadata": {},
     "source": [
      "## 4.6\u00a0\u00a0Why model?\n",
      "\n",
      "At the beginning of this chapter I said that many real world phenomena can be\n",
      "modeled with continuous distributions. \u201cSo,\u201d you might ask, \u201cwhat?\u201d\n",
      "\n",
      "Like all models, continuous distributions are abstractions, which means they\n",
      "leave out details that are considered irrelevant. For example, an observed\n",
      "distribution might have measurement errors or quirks that are specific to the\n",
      "sample; continuous models smooth out these idiosyncrasies.\n",
      "\n",
      "Continuous models are also a form of data compression. When a model fits a\n",
      "dataset well, a small set of parameters can summarize a large amount of data.\n",
      "\n",
      "It is sometimes surprising when data from a natural phenomenon fit a\n",
      "continuous distribution, but these observations can lead to insight into\n",
      "physical systems. Sometimes we can explain why an observed distribution has a\n",
      "particular form. For example, Pareto distributions are often the result of\n",
      "generative processes with positive feedback (so-called preferential attachment\n",
      "processes: see `http://wikipedia.org/wiki/Preferential_attachment`.).\n",
      "\n",
      "Continuous distributions lend themselves to mathematical analysis, as we will\n",
      "see in Chapter\u00a0[6](thinkstats007.html#operations).\n",
      "\n",
      "## 4.7\u00a0\u00a0Generating random numbers\n",
      "\n",
      "Continuous CDFs are also useful for generating random numbers. If there is an\n",
      "efficient way to compute the inverse CDF, ICDF(_p_), we can generate random\n",
      "values with the appropriate distribution by choosing from a uniform\n",
      "distribution from 0 to 1, then choosing\n",
      "\n",
      "$$ x = ICDF(p) $$\n",
      "\n",
      "For example, the CDF of the exponential distribution is\n",
      "\n",
      "$$ p = 1- e^{-\\lambda x} $$\n",
      "\n",
      "Solving for _x_\u00a0yields:\n",
      "\n",
      "$$x = -log(1-p)/\\lambda $$\n",
      "\n",
      "So in Python we can write\n",
      "    \n",
      "    def expovariate(lam):\n",
      "        p = random.random()\n",
      "        x = -math.log(1-p) / lam\n",
      "        return x\n",
      "    \n",
      "\n",
      "I called the parameter `lam` because `lambda` is a Python keyword. Most\n",
      "implementations of `random.random` can return 0 but not 1, so \\\\(1-p\\\\)\u00a0can be 1\n",
      "but not 0, which is good, because \\\\(log(0)\\\\) is undefined.\n",
      "\n",
      "**Exercise\u00a014**\u00a0\u00a0Write a function named `weibullvariate` that takes `lam` and `k` and returns a random value from the Weibull distribution with those parameters.\n"
     ]
    },
    {
     "cell_type": "code",
     "collapsed": false,
     "input": [
      "import math\n",
      "\n",
      "def weibullvariate(lam, k):\n",
      "    \"\"\"the CDF for weibull is 1-e^{(-x/lambda)^k}, \n",
      "    solving for p and rearrange...\"\"\"\n",
      "    p = random.random()\n",
      "    return ((-lam**k)*math.log(1-p))**(1/float(k))"
     ],
     "language": "python",
     "metadata": {},
     "outputs": [],
     "prompt_number": 26
    },
    {
     "cell_type": "code",
     "collapsed": false,
     "input": [
      "pd.DataFrame(sorted([weibullvariate(2,1) for _ in range(100)])).plot()"
     ],
     "language": "python",
     "metadata": {},
     "outputs": [
      {
       "metadata": {},
       "output_type": "pyout",
       "prompt_number": 27,
       "text": [
        "<matplotlib.axes.AxesSubplot at 0x12238e30>"
       ]
      },
      {
       "metadata": {},
       "output_type": "display_data",
       "png": "[encoded data removed]",
       "text": [
        "<matplotlib.figure.Figure at 0x122284f0>"
       ]
      }
     ],
     "prompt_number": 27
    },
    {
     "cell_type": "markdown",
     "metadata": {},
     "source": [
      "\n",
      "## 4.8\u00a0\u00a0Glossary\n",
      "\n",
      "**empirical distribution:** The distribution of values in a sample.   \n",
      "**continuous distribution:** A distribution described by a continuous function.   \n",
      "**interarrival time:** The elapsed time between two events.   \n",
      "**error function:** A special mathematical function, so-named because it comes up in the study of measurement errors.   \n",
      "**normal probability plot:**  A plot of the sorted values in a sample versus the expected value for each if their distribution is normal.   \n",
      "**rankit:** The expected value of an element in a sorted list of values from a normal distribution.    \n",
      "**model:** A useful simplification. Continuous distributions are often good models of more complex empirical distributions.   \n",
      "**corpus:**   A body of text used as a sample of a language.   \n",
      "**hapaxlegomenon:** A word that appears only once in a corpus. It appears twice in this book, so far.   \n",
      "\n"
     ]
    }
   ],
   "metadata": {}
  }
 ]
}