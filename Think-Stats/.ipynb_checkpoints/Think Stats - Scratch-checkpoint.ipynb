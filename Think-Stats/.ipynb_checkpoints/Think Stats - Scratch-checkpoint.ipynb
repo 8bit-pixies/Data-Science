{
 "metadata": {
  "name": ""
 },
 "nbformat": 3,
 "nbformat_minor": 0,
 "worksheets": [
  {
   "cells": [
    {
     "cell_type": "code",
     "collapsed": false,
     "input": [
      "import html2text\n",
      "import urllib2\n",
      "from bs4 import BeautifulSoup\n",
      "\n",
      "def getPage(url):\n",
      "    res = urllib2.urlopen(url)\n",
      "    html = res.read()\n",
      "    soup = BeautifulSoup(html)\n",
      "    tt = soup.find('table')\n",
      "    content = tt.find('td', {\"valign\" : \"top\", \"width\" : \"600\"})\n",
      "    return html2text.html2text(content.decode_contents())"
     ],
     "language": "python",
     "metadata": {},
     "outputs": [],
     "prompt_number": 62
    },
    {
     "cell_type": "code",
     "collapsed": false,
     "input": [
      "index = getPage('http://www.greenteapress.com/thinkstats/html/index.html')"
     ],
     "language": "python",
     "metadata": {},
     "outputs": [],
     "prompt_number": 63
    },
    {
     "cell_type": "code",
     "collapsed": false,
     "input": [
      "pages = 'http://www.greenteapress.com/thinkstats/html/thinkstats%s.html'"
     ],
     "language": "python",
     "metadata": {},
     "outputs": [],
     "prompt_number": 64
    },
    {
     "cell_type": "code",
     "collapsed": false,
     "input": [
      "chpts = ['%03d' % (x+1) for x in range(11)]\n",
      "#allchpts = [getPage(pages % x) for x in chpts]"
     ],
     "language": "python",
     "metadata": {},
     "outputs": [],
     "prompt_number": 65
    },
    {
     "cell_type": "code",
     "collapsed": false,
     "input": [
      "allchpts = []\n",
      "for x in chpts:\n",
      "    print pages % x\n",
      "    allchpts.append(getPage(pages % x))"
     ],
     "language": "python",
     "metadata": {},
     "outputs": [
      {
       "output_type": "stream",
       "stream": "stdout",
       "text": [
        "http://www.greenteapress.com/thinkstats/html/thinkstats001.html\n",
        "http://www.greenteapress.com/thinkstats/html/thinkstats002.html"
       ]
      },
      {
       "output_type": "stream",
       "stream": "stdout",
       "text": [
        "\n",
        "http://www.greenteapress.com/thinkstats/html/thinkstats003.html"
       ]
      },
      {
       "output_type": "stream",
       "stream": "stdout",
       "text": [
        "\n",
        "http://www.greenteapress.com/thinkstats/html/thinkstats004.html"
       ]
      },
      {
       "output_type": "stream",
       "stream": "stdout",
       "text": [
        "\n",
        "http://www.greenteapress.com/thinkstats/html/thinkstats005.html"
       ]
      },
      {
       "output_type": "stream",
       "stream": "stdout",
       "text": [
        "\n",
        "http://www.greenteapress.com/thinkstats/html/thinkstats006.html"
       ]
      },
      {
       "output_type": "stream",
       "stream": "stdout",
       "text": [
        "\n",
        "http://www.greenteapress.com/thinkstats/html/thinkstats007.html"
       ]
      },
      {
       "output_type": "stream",
       "stream": "stdout",
       "text": [
        "\n",
        "http://www.greenteapress.com/thinkstats/html/thinkstats008.html"
       ]
      },
      {
       "output_type": "stream",
       "stream": "stdout",
       "text": [
        "\n",
        "http://www.greenteapress.com/thinkstats/html/thinkstats009.html"
       ]
      },
      {
       "output_type": "stream",
       "stream": "stdout",
       "text": [
        "\n",
        "http://www.greenteapress.com/thinkstats/html/thinkstats010.html"
       ]
      },
      {
       "output_type": "stream",
       "stream": "stdout",
       "text": [
        "\n",
        "http://www.greenteapress.com/thinkstats/html/thinkstats011.html"
       ]
      },
      {
       "output_type": "stream",
       "stream": "stdout",
       "text": [
        "\n"
       ]
      }
     ],
     "prompt_number": 66
    },
    {
     "cell_type": "code",
     "collapsed": false,
     "input": [
      "#write files...\n",
      "def writeFile(item, name):\n",
      "    fwrite = open(\"scratch/\"+name, 'w')\n",
      "    fwrite.write(item.encode('utf-8'))\n",
      "    fwrite.close()\n",
      "    return None\n",
      "\n",
      "writeFile(index, 'index.md')\n",
      "for i,x in enumerate(allchpts):\n",
      "    writeFile(x, \"%03d.md\" % (i+1))\n"
     ],
     "language": "python",
     "metadata": {},
     "outputs": [
      {
       "output_type": "stream",
       "stream": "stdout",
       "text": [
        "g that is about half the size of a Hyracotherium (see `http://wikipedia.org/wiki/Hyracotherium`). \n",
        "\n",
        "\n",
        "ta. \n",
        "3\n",
        "\n",
        "    If you don\u2019t recognize this phrase, see `http://wikipedia.org/wiki/Twenty_Questions`. \n",
        "\n",
        "\n",
        "lly significant:**\n",
        "     A result, like a difference between groups, that is relevant in practice. \n",
        "\n",
        "\n",
        "ue that is not in the sample. As far as I\u2019m concerned, the median is the 50th percentile. Period. \n",
        "\n",
        "\n",
        ": U.S. Department of Health and Human Services, Centers for Disease Control and Prevention, 2008. \n",
        "\n",
        "\n",
        " Probabilities In Employee Drug-Testing,\u201d at `http://piercelaw.edu/risk/vol2/winter/gleason.htm`. \n",
        "\n",
        "\n",
        "her, the mean of a distribution is its center of mass, and the variance is its moment of inertia. \n",
        "\n",
        "\n",
        "ect the null hypothesis if it is false. \n",
        "\n",
        "* * *\n",
        "\n",
        "1\n",
        "\n",
        "    Also known as a \u201cSignificance criterion.\u201d \n",
        "\n",
        "\n",
        "ata. \n",
        "\n",
        "* * *\n",
        "\n",
        "1\n",
        "\n",
        "    See `http://wikipedia.org/wiki/Exponential_distribution#Maximum_likelihood`. \n",
        "\n",
        "\n",
        "ess et al., _Numerical Recipes in C_, Chapter 15 at `http://www.nrbook.com/a/bookcpdf/c15-1.pdf`. \n",
        "\n",
        "\n",
        "9.8](thinkstats010.html#@default1076)   \n",
        "  \n",
        "\n",
        "  * Zipf\u2019s law, [4.2](thinkstats005.html#@default295)\n",
        "\n",
        "\n"
       ]
      }
     ],
     "prompt_number": 67
    }
   ],
   "metadata": {}
  }
 ]
}